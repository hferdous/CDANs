{
  "cells": [
    {
      "cell_type": "code",
      "execution_count": null,
      "metadata": {
        "colab": {
          "base_uri": "https://localhost:8080/"
        },
        "id": "llB-1IJ4DHpe",
        "outputId": "91b21503-ab0c-406a-8e5f-03ca4e5fd5c3"
      },
      "outputs": [
        {
          "output_type": "stream",
          "name": "stdout",
          "text": [
            "Mounted at /content/gdrive\n"
          ]
        }
      ],
      "source": [
        "import os, sys \n",
        "#to be able to interact with Google Drive's operating system\n",
        "from google.colab import drive \n",
        "#drive is a module that allows us use Python to interact with google drive\n",
        "drive.mount('/content/gdrive') \n",
        "#mounting google drive allows us to work with its contents\n",
        "nb_path = '/content/notebooks'\n",
        "os.symlink('/content/gdrive/My Drive/Colab Notebooks', nb_path)\n",
        "sys.path.insert(0, nb_path)  # or append(nb_path)\n",
        "#The last three lines are what changes the path of the file.c"
      ]
    },
    {
      "cell_type": "markdown",
      "metadata": {
        "id": "8nfCJ1zzIpeA"
      },
      "source": [
        "Install the required package"
      ]
    },
    {
      "cell_type": "code",
      "execution_count": null,
      "metadata": {
        "colab": {
          "base_uri": "https://localhost:8080/",
          "height": 729
        },
        "id": "7-XAQ09Z7Z1G",
        "outputId": "cc376066-2e04-463b-8964-1dfca829836c"
      },
      "outputs": [
        {
          "output_type": "stream",
          "name": "stdout",
          "text": [
            "Looking in indexes: https://pypi.org/simple, https://us-python.pkg.dev/colab-wheels/public/simple/\n",
            "Collecting tigramite\n",
            "  Downloading tigramite-5.1.0.3-py3-none-any.whl (197 kB)\n",
            "\u001b[2K     \u001b[90m━━━━━━━━━━━━━━━━━━━━━━━━━━━━━━━━━━━━━━\u001b[0m \u001b[32m197.3/197.3 KB\u001b[0m \u001b[31m13.6 MB/s\u001b[0m eta \u001b[36m0:00:00\u001b[0m\n",
            "\u001b[?25hCollecting numba==0.55.1\n",
            "  Downloading numba-0.55.1-1-cp38-cp38-manylinux2014_x86_64.manylinux_2_17_x86_64.whl (3.4 MB)\n",
            "\u001b[2K     \u001b[90m━━━━━━━━━━━━━━━━━━━━━━━━━━━━━━━━━━━━━━━━\u001b[0m \u001b[32m3.4/3.4 MB\u001b[0m \u001b[31m51.3 MB/s\u001b[0m eta \u001b[36m0:00:00\u001b[0m\n",
            "\u001b[?25hCollecting scipy==1.8.0\n",
            "  Downloading scipy-1.8.0-cp38-cp38-manylinux_2_17_x86_64.manylinux2014_x86_64.whl (41.6 MB)\n",
            "\u001b[2K     \u001b[90m━━━━━━━━━━━━━━━━━━━━━━━━━━━━━━━━━━━━━━━━\u001b[0m \u001b[32m41.6/41.6 MB\u001b[0m \u001b[31m17.4 MB/s\u001b[0m eta \u001b[36m0:00:00\u001b[0m\n",
            "\u001b[?25hRequirement already satisfied: six in /usr/local/lib/python3.8/dist-packages (from tigramite) (1.15.0)\n",
            "Collecting numpy==1.21.5\n",
            "  Downloading numpy-1.21.5-cp38-cp38-manylinux_2_12_x86_64.manylinux2010_x86_64.whl (15.7 MB)\n",
            "\u001b[2K     \u001b[90m━━━━━━━━━━━━━━━━━━━━━━━━━━━━━━━━━━━━━━━━\u001b[0m \u001b[32m15.7/15.7 MB\u001b[0m \u001b[31m90.1 MB/s\u001b[0m eta \u001b[36m0:00:00\u001b[0m\n",
            "\u001b[?25hRequirement already satisfied: setuptools in /usr/local/lib/python3.8/dist-packages (from numba==0.55.1->tigramite) (57.4.0)\n",
            "Collecting llvmlite<0.39,>=0.38.0rc1\n",
            "  Downloading llvmlite-0.38.1-cp38-cp38-manylinux_2_17_x86_64.manylinux2014_x86_64.whl (34.5 MB)\n",
            "\u001b[2K     \u001b[90m━━━━━━━━━━━━━━━━━━━━━━━━━━━━━━━━━━━━━━━━\u001b[0m \u001b[32m34.5/34.5 MB\u001b[0m \u001b[31m21.7 MB/s\u001b[0m eta \u001b[36m0:00:00\u001b[0m\n",
            "\u001b[?25hInstalling collected packages: numpy, llvmlite, scipy, numba, tigramite\n",
            "  Attempting uninstall: numpy\n",
            "    Found existing installation: numpy 1.21.6\n",
            "    Uninstalling numpy-1.21.6:\n",
            "      Successfully uninstalled numpy-1.21.6\n",
            "  Attempting uninstall: llvmlite\n",
            "    Found existing installation: llvmlite 0.39.1\n",
            "    Uninstalling llvmlite-0.39.1:\n",
            "      Successfully uninstalled llvmlite-0.39.1\n",
            "  Attempting uninstall: scipy\n",
            "    Found existing installation: scipy 1.7.3\n",
            "    Uninstalling scipy-1.7.3:\n",
            "      Successfully uninstalled scipy-1.7.3\n",
            "  Attempting uninstall: numba\n",
            "    Found existing installation: numba 0.56.4\n",
            "    Uninstalling numba-0.56.4:\n",
            "      Successfully uninstalled numba-0.56.4\n",
            "Successfully installed llvmlite-0.38.1 numba-0.55.1 numpy-1.21.5 scipy-1.8.0 tigramite-5.1.0.3\n"
          ]
        },
        {
          "output_type": "display_data",
          "data": {
            "application/vnd.colab-display-data+json": {
              "pip_warning": {
                "packages": [
                  "numpy"
                ]
              }
            }
          },
          "metadata": {}
        }
      ],
      "source": [
        "!pip install tigramite"
      ]
    },
    {
      "cell_type": "markdown",
      "metadata": {
        "id": "wNitctamK1dS"
      },
      "source": [
        "Import requied libraries"
      ]
    },
    {
      "cell_type": "code",
      "execution_count": null,
      "metadata": {
        "colab": {
          "base_uri": "https://localhost:8080/"
        },
        "id": "kHPOx9kSDSio",
        "outputId": "1eadc6f1-1758-4d63-931e-e1f486f7a105"
      },
      "outputs": [
        {
          "output_type": "stream",
          "name": "stderr",
          "text": [
            "/usr/local/lib/python3.8/dist-packages/tigramite/plotting.py:26: UserWarning: [Errno 2] No such file or directory: '/usr/local/lib/python3.8/dist-packages/tigramite/../versions.py'\n",
            "  warnings.warn(str(e))\n",
            "/usr/local/lib/python3.8/dist-packages/tigramite/independence_tests/gpdc.py:27: UserWarning: No module named 'dcor'\n",
            "  warnings.warn(str(e))\n",
            "/usr/local/lib/python3.8/dist-packages/tigramite/independence_tests/gpdc_torch.py:33: UserWarning: No module named 'dcor'\n",
            "  warnings.warn(str(e))\n"
          ]
        }
      ],
      "source": [
        "# Imports\n",
        "import numpy as np\n",
        "import matplotlib\n",
        "from matplotlib import pyplot as plt\n",
        "%matplotlib inline     \n",
        "## use `%matplotlib notebook` for interactive figures\n",
        "# plt.style.use('ggplot')\n",
        "#import sklearn\n",
        "import tigramite\n",
        "from tigramite import data_processing as pp\n",
        "from tigramite import plotting as tp\n",
        "from tigramite.pcmci import PCMCI\n",
        "from tigramite.independence_tests import ParCorr, GPDC, CMIknn, CMIsymb"
      ]
    },
    {
      "cell_type": "markdown",
      "metadata": {
        "id": "PJ5PRerMLDlT"
      },
      "source": [
        "Upload the dataset we are interested to find the lagged causal links"
      ]
    },
    {
      "cell_type": "code",
      "execution_count": null,
      "metadata": {
        "colab": {
          "base_uri": "https://localhost:8080/",
          "height": 73
        },
        "id": "kTyuBxPgDbtJ",
        "outputId": "10d3e0f8-dd2e-4839-8cfc-5382f3fc5fee"
      },
      "outputs": [
        {
          "output_type": "display_data",
          "data": {
            "text/plain": [
              "<IPython.core.display.HTML object>"
            ],
            "text/html": [
              "\n",
              "     <input type=\"file\" id=\"files-62aaaf04-2fd0-4a5e-abee-9183ef50bacc\" name=\"files[]\" multiple disabled\n",
              "        style=\"border:none\" />\n",
              "     <output id=\"result-62aaaf04-2fd0-4a5e-abee-9183ef50bacc\">\n",
              "      Upload widget is only available when the cell has been executed in the\n",
              "      current browser session. Please rerun this cell to enable.\n",
              "      </output>\n",
              "      <script>// Copyright 2017 Google LLC\n",
              "//\n",
              "// Licensed under the Apache License, Version 2.0 (the \"License\");\n",
              "// you may not use this file except in compliance with the License.\n",
              "// You may obtain a copy of the License at\n",
              "//\n",
              "//      http://www.apache.org/licenses/LICENSE-2.0\n",
              "//\n",
              "// Unless required by applicable law or agreed to in writing, software\n",
              "// distributed under the License is distributed on an \"AS IS\" BASIS,\n",
              "// WITHOUT WARRANTIES OR CONDITIONS OF ANY KIND, either express or implied.\n",
              "// See the License for the specific language governing permissions and\n",
              "// limitations under the License.\n",
              "\n",
              "/**\n",
              " * @fileoverview Helpers for google.colab Python module.\n",
              " */\n",
              "(function(scope) {\n",
              "function span(text, styleAttributes = {}) {\n",
              "  const element = document.createElement('span');\n",
              "  element.textContent = text;\n",
              "  for (const key of Object.keys(styleAttributes)) {\n",
              "    element.style[key] = styleAttributes[key];\n",
              "  }\n",
              "  return element;\n",
              "}\n",
              "\n",
              "// Max number of bytes which will be uploaded at a time.\n",
              "const MAX_PAYLOAD_SIZE = 100 * 1024;\n",
              "\n",
              "function _uploadFiles(inputId, outputId) {\n",
              "  const steps = uploadFilesStep(inputId, outputId);\n",
              "  const outputElement = document.getElementById(outputId);\n",
              "  // Cache steps on the outputElement to make it available for the next call\n",
              "  // to uploadFilesContinue from Python.\n",
              "  outputElement.steps = steps;\n",
              "\n",
              "  return _uploadFilesContinue(outputId);\n",
              "}\n",
              "\n",
              "// This is roughly an async generator (not supported in the browser yet),\n",
              "// where there are multiple asynchronous steps and the Python side is going\n",
              "// to poll for completion of each step.\n",
              "// This uses a Promise to block the python side on completion of each step,\n",
              "// then passes the result of the previous step as the input to the next step.\n",
              "function _uploadFilesContinue(outputId) {\n",
              "  const outputElement = document.getElementById(outputId);\n",
              "  const steps = outputElement.steps;\n",
              "\n",
              "  const next = steps.next(outputElement.lastPromiseValue);\n",
              "  return Promise.resolve(next.value.promise).then((value) => {\n",
              "    // Cache the last promise value to make it available to the next\n",
              "    // step of the generator.\n",
              "    outputElement.lastPromiseValue = value;\n",
              "    return next.value.response;\n",
              "  });\n",
              "}\n",
              "\n",
              "/**\n",
              " * Generator function which is called between each async step of the upload\n",
              " * process.\n",
              " * @param {string} inputId Element ID of the input file picker element.\n",
              " * @param {string} outputId Element ID of the output display.\n",
              " * @return {!Iterable<!Object>} Iterable of next steps.\n",
              " */\n",
              "function* uploadFilesStep(inputId, outputId) {\n",
              "  const inputElement = document.getElementById(inputId);\n",
              "  inputElement.disabled = false;\n",
              "\n",
              "  const outputElement = document.getElementById(outputId);\n",
              "  outputElement.innerHTML = '';\n",
              "\n",
              "  const pickedPromise = new Promise((resolve) => {\n",
              "    inputElement.addEventListener('change', (e) => {\n",
              "      resolve(e.target.files);\n",
              "    });\n",
              "  });\n",
              "\n",
              "  const cancel = document.createElement('button');\n",
              "  inputElement.parentElement.appendChild(cancel);\n",
              "  cancel.textContent = 'Cancel upload';\n",
              "  const cancelPromise = new Promise((resolve) => {\n",
              "    cancel.onclick = () => {\n",
              "      resolve(null);\n",
              "    };\n",
              "  });\n",
              "\n",
              "  // Wait for the user to pick the files.\n",
              "  const files = yield {\n",
              "    promise: Promise.race([pickedPromise, cancelPromise]),\n",
              "    response: {\n",
              "      action: 'starting',\n",
              "    }\n",
              "  };\n",
              "\n",
              "  cancel.remove();\n",
              "\n",
              "  // Disable the input element since further picks are not allowed.\n",
              "  inputElement.disabled = true;\n",
              "\n",
              "  if (!files) {\n",
              "    return {\n",
              "      response: {\n",
              "        action: 'complete',\n",
              "      }\n",
              "    };\n",
              "  }\n",
              "\n",
              "  for (const file of files) {\n",
              "    const li = document.createElement('li');\n",
              "    li.append(span(file.name, {fontWeight: 'bold'}));\n",
              "    li.append(span(\n",
              "        `(${file.type || 'n/a'}) - ${file.size} bytes, ` +\n",
              "        `last modified: ${\n",
              "            file.lastModifiedDate ? file.lastModifiedDate.toLocaleDateString() :\n",
              "                                    'n/a'} - `));\n",
              "    const percent = span('0% done');\n",
              "    li.appendChild(percent);\n",
              "\n",
              "    outputElement.appendChild(li);\n",
              "\n",
              "    const fileDataPromise = new Promise((resolve) => {\n",
              "      const reader = new FileReader();\n",
              "      reader.onload = (e) => {\n",
              "        resolve(e.target.result);\n",
              "      };\n",
              "      reader.readAsArrayBuffer(file);\n",
              "    });\n",
              "    // Wait for the data to be ready.\n",
              "    let fileData = yield {\n",
              "      promise: fileDataPromise,\n",
              "      response: {\n",
              "        action: 'continue',\n",
              "      }\n",
              "    };\n",
              "\n",
              "    // Use a chunked sending to avoid message size limits. See b/62115660.\n",
              "    let position = 0;\n",
              "    do {\n",
              "      const length = Math.min(fileData.byteLength - position, MAX_PAYLOAD_SIZE);\n",
              "      const chunk = new Uint8Array(fileData, position, length);\n",
              "      position += length;\n",
              "\n",
              "      const base64 = btoa(String.fromCharCode.apply(null, chunk));\n",
              "      yield {\n",
              "        response: {\n",
              "          action: 'append',\n",
              "          file: file.name,\n",
              "          data: base64,\n",
              "        },\n",
              "      };\n",
              "\n",
              "      let percentDone = fileData.byteLength === 0 ?\n",
              "          100 :\n",
              "          Math.round((position / fileData.byteLength) * 100);\n",
              "      percent.textContent = `${percentDone}% done`;\n",
              "\n",
              "    } while (position < fileData.byteLength);\n",
              "  }\n",
              "\n",
              "  // All done.\n",
              "  yield {\n",
              "    response: {\n",
              "      action: 'complete',\n",
              "    }\n",
              "  };\n",
              "}\n",
              "\n",
              "scope.google = scope.google || {};\n",
              "scope.google.colab = scope.google.colab || {};\n",
              "scope.google.colab._files = {\n",
              "  _uploadFiles,\n",
              "  _uploadFilesContinue,\n",
              "};\n",
              "})(self);\n",
              "</script> "
            ]
          },
          "metadata": {}
        },
        {
          "output_type": "stream",
          "name": "stdout",
          "text": [
            "Saving 8.6.csv to 8.6.csv\n"
          ]
        }
      ],
      "source": [
        "from google.colab import files\n",
        "uploaded = files.upload()"
      ]
    },
    {
      "cell_type": "code",
      "execution_count": null,
      "metadata": {
        "id": "bK7Uzm_sDe7J"
      },
      "outputs": [],
      "source": [
        "import io\n",
        "import pandas as pd\n",
        "df = pd.read_csv(io.BytesIO(uploaded['8.6.csv']))# Dataset is now stored in a Pandas Dataframe"
      ]
    },
    {
      "cell_type": "code",
      "execution_count": null,
      "metadata": {
        "colab": {
          "base_uri": "https://localhost:8080/"
        },
        "id": "2krrMko4Dg5u",
        "outputId": "a473f146-eb38-4a06-9ab2-efc380651a33"
      },
      "outputs": [
        {
          "output_type": "stream",
          "name": "stdout",
          "text": [
            "[[0.85249568 0.73798506 3.08014479 ... 1.27512462 0.99610433 1.28460526]\n",
            " [0.74065437 1.30358272 3.00025122 ... 0.79403383 1.70333278 2.15804869]\n",
            " [0.99554533 1.02900932 3.02997898 ... 1.03390461 1.3709208  2.06991585]\n",
            " ...\n",
            " [0.84673939 2.12524169 6.68358741 ... 9.06152794 6.13396513 5.01976527]\n",
            " [0.58336823 1.96281714 6.53445317 ... 7.99052886 5.86271376 4.9270226 ]\n",
            " [0.50622461 1.47677908 7.74991918 ... 8.27075105 5.71970818 5.57552946]]\n"
          ]
        }
      ],
      "source": [
        "df=df.to_numpy()\n",
        "print(df)"
      ]
    },
    {
      "cell_type": "code",
      "execution_count": null,
      "metadata": {
        "id": "fKr9MObQDhV7"
      },
      "outputs": [],
      "source": [
        "# Initialize dataframe object, specify time axis and variable names\n",
        "var_names = [r'$X^1$', r'$X^2$', r'$X^3$', r'$X^4$', r'$X^5$', r'$X^6$', r'$X^7$', r'$X^8$']\n",
        "dataframe = pp.DataFrame(df, \n",
        "                         datatime = np.arange(len(df)), \n",
        "                         var_names=var_names)"
      ]
    },
    {
      "cell_type": "markdown",
      "metadata": {
        "id": "Qwd4yhx-LiUa"
      },
      "source": [
        "Perform the test using the parameters: significance level of the CI tests, minimum and maximum period of lags. Record the lagged links for the further steps."
      ]
    },
    {
      "cell_type": "code",
      "execution_count": null,
      "metadata": {
        "id": "zcI9-WMtue3u",
        "colab": {
          "base_uri": "https://localhost:8080/"
        },
        "outputId": "fb0cf1bb-44a5-4389-d702-f686b11963c1"
      },
      "outputs": [
        {
          "output_type": "stream",
          "name": "stdout",
          "text": [
            "\n",
            "## Significant links at alpha = 0.05:\n",
            "\n",
            "    Variable $X^1$ has 1 link(s):\n",
            "        ($X^1$ -1): pval = 0.00000 | val =  0.067\n",
            "\n",
            "    Variable $X^2$ has 2 link(s):\n",
            "        ($X^1$ -1): pval = 0.00000 | val =  0.023\n",
            "        ($X^2$ -1): pval = 0.02900 | val =  0.021\n",
            "\n",
            "    Variable $X^3$ has 1 link(s):\n",
            "        ($X^2$ -2): pval = 0.00400 | val =  0.013\n",
            "\n",
            "    Variable $X^4$ has 1 link(s):\n",
            "        ($X^3$  0): pval = 0.00100 | val =  0.024\n",
            "\n",
            "    Variable $X^5$ has 4 link(s):\n",
            "        ($X^4$ -6): pval = 0.00000 | val =  0.020\n",
            "        ($X^5$ -3): pval = 0.00000 | val =  0.019\n",
            "        ($X^6$  0): pval = 0.00100 | val =  0.016 | unclear orientation due to conflict\n",
            "        ($X^5$ -1): pval = 0.02400 | val =  0.014\n",
            "\n",
            "    Variable $X^6$ has 2 link(s):\n",
            "        ($X^5$ -6): pval = 0.00000 | val =  0.070\n",
            "        ($X^5$  0): pval = 0.00100 | val =  0.016 | unclear orientation due to conflict\n",
            "\n",
            "    Variable $X^7$ has 1 link(s):\n",
            "        ($X^6$ -1): pval = 0.00000 | val =  0.026\n",
            "\n",
            "    Variable $X^8$ has 1 link(s):\n",
            "        ($X^7$  0): pval = 0.00000 | val =  0.095\n",
            "\n",
            "## Ambiguous triples (not used for orientation):\n",
            "\n",
            "    [($X^4$ -6), $X^5$, $X^6$]\n",
            "    [($X^5$ -1), $X^5$, $X^6$]\n"
          ]
        }
      ],
      "source": [
        "cond_ind_test = CMIknn()\n",
        "pcmci = PCMCI(dataframe=dataframe, cond_ind_test=cond_ind_test)\n",
        "results = pcmci.run_pcmciplus(tau_min=0, tau_max=6, pc_alpha=0.05)\n",
        "pcmci.print_results(results, alpha_level=0.05)"
      ]
    },
    {
      "cell_type": "markdown",
      "metadata": {
        "id": "HkOu3I3U-Etk"
      },
      "source": [
        "133 mins"
      ]
    },
    {
      "cell_type": "code",
      "execution_count": null,
      "metadata": {
        "id": "NwBVZ91bRKH_",
        "colab": {
          "base_uri": "https://localhost:8080/"
        },
        "outputId": "9aae42c6-a86f-4156-d0f0-e0940c367eea"
      },
      "outputs": [
        {
          "output_type": "stream",
          "name": "stdout",
          "text": [
            "\n",
            "## Significant links at alpha = 0.05:\n",
            "\n",
            "    Variable $X^1$ has 1 link(s):\n",
            "        ($X^1$ -1): pval = 0.00000 | val =  0.067\n",
            "\n",
            "    Variable $X^2$ has 2 link(s):\n",
            "        ($X^1$ -1): pval = 0.00000 | val =  0.023\n",
            "        ($X^2$ -1): pval = 0.02500 | val =  0.021\n",
            "\n",
            "    Variable $X^3$ has 2 link(s):\n",
            "        ($X^2$ -2): pval = 0.00000 | val =  0.019\n",
            "        ($X^3$ -3): pval = 0.00300 | val =  0.015\n",
            "\n",
            "    Variable $X^4$ has 2 link(s):\n",
            "        ($X^2$ -2): pval = 0.00900 | val =  0.018\n",
            "        ($X^3$ -3): pval = 0.03700 | val =  0.017\n",
            "\n",
            "    Variable $X^5$ has 3 link(s):\n",
            "        ($X^4$ -6): pval = 0.00000 | val =  0.022\n",
            "        ($X^5$ -3): pval = 0.00000 | val =  0.020\n",
            "        ($X^5$ -1): pval = 0.01900 | val =  0.014\n",
            "\n",
            "    Variable $X^6$ has 1 link(s):\n",
            "        ($X^5$ -6): pval = 0.00000 | val =  0.076\n",
            "\n",
            "    Variable $X^7$ has 1 link(s):\n",
            "        ($X^6$ -1): pval = 0.00000 | val =  0.049\n",
            "\n",
            "    Variable $X^8$ has 1 link(s):\n",
            "        ($X^6$ -1): pval = 0.02300 | val =  0.031\n"
          ]
        }
      ],
      "source": [
        "cond_ind_test = CMIknn()\n",
        "pcmci = PCMCI(dataframe=dataframe, cond_ind_test=cond_ind_test)\n",
        "results = pcmci.run_pcmciplus(tau_min=1, tau_max=6, pc_alpha=0.05)\n",
        "pcmci.print_results(results, alpha_level=0.05)"
      ]
    },
    {
      "cell_type": "markdown",
      "metadata": {
        "id": "cucmL7HuEkAC"
      },
      "source": [
        "57.5 mins"
      ]
    }
  ],
  "metadata": {
    "colab": {
      "provenance": []
    },
    "kernelspec": {
      "display_name": "Python 3",
      "name": "python3"
    },
    "language_info": {
      "name": "python"
    }
  },
  "nbformat": 4,
  "nbformat_minor": 0
}