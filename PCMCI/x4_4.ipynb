{
  "nbformat": 4,
  "nbformat_minor": 0,
  "metadata": {
    "colab": {
      "provenance": []
    },
    "kernelspec": {
      "name": "python3",
      "display_name": "Python 3"
    },
    "language_info": {
      "name": "python"
    }
  },
  "cells": [
    {
      "cell_type": "code",
      "metadata": {
        "id": "llB-1IJ4DHpe",
        "colab": {
          "base_uri": "https://localhost:8080/"
        },
        "outputId": "f442d517-3492-4d23-bba5-e5ac6fc2a834"
      },
      "source": [
        "import os, sys \n",
        "#to be able to interact with Google Drive's operating system\n",
        "from google.colab import drive \n",
        "#drive is a module that allows us use Python to interact with google drive\n",
        "drive.mount('/content/gdrive') \n",
        "#mounting google drive allows us to work with its contents\n",
        "nb_path = '/content/notebooks'\n",
        "os.symlink('/content/gdrive/My Drive/Colab Notebooks', nb_path)\n",
        "sys.path.insert(0, nb_path)  # or append(nb_path)\n",
        "#The last three lines are what changes the path of the file.c"
      ],
      "execution_count": null,
      "outputs": [
        {
          "output_type": "stream",
          "name": "stdout",
          "text": [
            "Mounted at /content/gdrive\n"
          ]
        }
      ]
    },
    {
      "cell_type": "markdown",
      "source": [
        "Install the required package"
      ],
      "metadata": {
        "id": "8nfCJ1zzIpeA"
      }
    },
    {
      "cell_type": "code",
      "source": [
        "pip install dcor"
      ],
      "metadata": {
        "colab": {
          "base_uri": "https://localhost:8080/"
        },
        "id": "NP2wGjJIp7k-",
        "outputId": "1943b015-e80f-4085-a817-efa9f61be265"
      },
      "execution_count": null,
      "outputs": [
        {
          "output_type": "stream",
          "name": "stdout",
          "text": [
            "Looking in indexes: https://pypi.org/simple, https://us-python.pkg.dev/colab-wheels/public/simple/\n",
            "Collecting dcor\n",
            "  Downloading dcor-0.5.3-py2.py3-none-any.whl (35 kB)\n",
            "Requirement already satisfied: scipy in /usr/local/lib/python3.7/dist-packages (from dcor) (1.7.3)\n",
            "Requirement already satisfied: numpy in /usr/local/lib/python3.7/dist-packages (from dcor) (1.21.6)\n",
            "Requirement already satisfied: numba>=0.51 in /usr/local/lib/python3.7/dist-packages (from dcor) (0.56.3)\n",
            "Requirement already satisfied: importlib-metadata in /usr/local/lib/python3.7/dist-packages (from numba>=0.51->dcor) (4.13.0)\n",
            "Requirement already satisfied: llvmlite<0.40,>=0.39.0dev0 in /usr/local/lib/python3.7/dist-packages (from numba>=0.51->dcor) (0.39.1)\n",
            "Requirement already satisfied: setuptools in /usr/local/lib/python3.7/dist-packages (from numba>=0.51->dcor) (57.4.0)\n",
            "Requirement already satisfied: zipp>=0.5 in /usr/local/lib/python3.7/dist-packages (from importlib-metadata->numba>=0.51->dcor) (3.10.0)\n",
            "Requirement already satisfied: typing-extensions>=3.6.4 in /usr/local/lib/python3.7/dist-packages (from importlib-metadata->numba>=0.51->dcor) (4.1.1)\n",
            "Installing collected packages: dcor\n",
            "Successfully installed dcor-0.5.3\n"
          ]
        }
      ]
    },
    {
      "cell_type": "code",
      "metadata": {
        "id": "ObHaw-71DPdV",
        "colab": {
          "base_uri": "https://localhost:8080/"
        },
        "outputId": "d3e06333-978c-47fb-f4cd-32be8188168a"
      },
      "source": [
        "!pip install git+https://github.com/jakobrunge/tigramite.git"
      ],
      "execution_count": null,
      "outputs": [
        {
          "output_type": "stream",
          "name": "stdout",
          "text": [
            "Looking in indexes: https://pypi.org/simple, https://us-python.pkg.dev/colab-wheels/public/simple/\n",
            "Collecting git+https://github.com/jakobrunge/tigramite.git\n",
            "  Cloning https://github.com/jakobrunge/tigramite.git to /tmp/pip-req-build-tbxd2ept\n",
            "  Running command git clone -q https://github.com/jakobrunge/tigramite.git /tmp/pip-req-build-tbxd2ept\n",
            "Collecting numpy==1.21.5\n",
            "  Downloading numpy-1.21.5-cp37-cp37m-manylinux_2_12_x86_64.manylinux2010_x86_64.whl (15.7 MB)\n",
            "\u001b[K     |████████████████████████████████| 15.7 MB 30.2 MB/s \n",
            "\u001b[31mERROR: Could not find a version that satisfies the requirement scipy==1.8.0 (from tigramite) (from versions: 0.8.0, 0.9.0, 0.10.0, 0.10.1, 0.11.0, 0.12.0, 0.12.1, 0.13.0, 0.13.1, 0.13.2, 0.13.3, 0.14.0, 0.14.1, 0.15.0, 0.15.1, 0.16.0, 0.16.1, 0.17.0, 0.17.1, 0.18.0, 0.18.1, 0.19.0, 0.19.1, 1.0.0, 1.0.1, 1.1.0, 1.2.0, 1.2.1, 1.2.2, 1.2.3, 1.3.0rc1, 1.3.0rc2, 1.3.0, 1.3.1, 1.3.2, 1.3.3, 1.4.0rc1, 1.4.0rc2, 1.4.0, 1.4.1, 1.5.0rc1, 1.5.0rc2, 1.5.0, 1.5.1, 1.5.2, 1.5.3, 1.5.4, 1.6.0rc1, 1.6.0rc2, 1.6.0, 1.6.1, 1.6.2, 1.6.3, 1.7.0rc1, 1.7.0rc2, 1.7.0, 1.7.1, 1.7.2, 1.7.3)\u001b[0m\n",
            "\u001b[31mERROR: No matching distribution found for scipy==1.8.0\u001b[0m\n",
            "\u001b[?25h"
          ]
        }
      ]
    },
    {
      "cell_type": "code",
      "source": [
        "!pip install tigramite==4.2.2.1"
      ],
      "metadata": {
        "colab": {
          "base_uri": "https://localhost:8080/"
        },
        "id": "7-XAQ09Z7Z1G",
        "outputId": "714b323a-9c06-4bec-c933-ee486b7f3811"
      },
      "execution_count": null,
      "outputs": [
        {
          "output_type": "stream",
          "name": "stdout",
          "text": [
            "Looking in indexes: https://pypi.org/simple, https://us-python.pkg.dev/colab-wheels/public/simple/\n",
            "Collecting tigramite==4.2.2.1\n",
            "  Downloading tigramite-4.2.2.1-cp37-cp37m-manylinux_2_17_x86_64.manylinux2014_x86_64.whl (420 kB)\n",
            "\u001b[K     |████████████████████████████████| 420 kB 29.6 MB/s \n",
            "\u001b[?25hRequirement already satisfied: scipy in /usr/local/lib/python3.7/dist-packages (from tigramite==4.2.2.1) (1.7.3)\n",
            "Requirement already satisfied: six in /usr/local/lib/python3.7/dist-packages (from tigramite==4.2.2.1) (1.15.0)\n",
            "Requirement already satisfied: numpy in /usr/local/lib/python3.7/dist-packages (from tigramite==4.2.2.1) (1.21.6)\n",
            "Installing collected packages: tigramite\n",
            "Successfully installed tigramite-4.2.2.1\n"
          ]
        }
      ]
    },
    {
      "cell_type": "markdown",
      "source": [
        "Import requied libraries"
      ],
      "metadata": {
        "id": "wNitctamK1dS"
      }
    },
    {
      "cell_type": "code",
      "metadata": {
        "id": "kHPOx9kSDSio",
        "colab": {
          "base_uri": "https://localhost:8080/"
        },
        "outputId": "8f0178b3-8eda-4113-bf96-6075369b8690"
      },
      "source": [
        "# Imports\n",
        "import numpy as np\n",
        "import matplotlib\n",
        "from matplotlib import pyplot as plt\n",
        "%matplotlib inline     \n",
        "## use `%matplotlib notebook` for interactive figures\n",
        "# plt.style.use('ggplot')\n",
        "#import sklearn\n",
        "import tigramite\n",
        "from tigramite import data_processing as pp\n",
        "from tigramite import plotting as tp\n",
        "from tigramite.pcmci import PCMCI\n",
        "from tigramite.independence_tests import ParCorr, GPDC, CMIknn, CMIsymb"
      ],
      "execution_count": null,
      "outputs": [
        {
          "output_type": "stream",
          "name": "stderr",
          "text": [
            "/content/notebooks/tigramite/independence_tests/gpdc.py:16: UserWarning: No module named 'dcor'\n",
            "  warnings.warn(str(e))\n",
            "/content/notebooks/tigramite/independence_tests/gpdc_torch.py:18: UserWarning: No module named 'dcor'\n",
            "  warnings.warn(str(e))\n"
          ]
        }
      ]
    },
    {
      "cell_type": "markdown",
      "source": [
        "Upload the dataset we are interested to find the lagged causal links"
      ],
      "metadata": {
        "id": "PJ5PRerMLDlT"
      }
    },
    {
      "cell_type": "code",
      "metadata": {
        "id": "kTyuBxPgDbtJ",
        "colab": {
          "base_uri": "https://localhost:8080/",
          "height": 73
        },
        "outputId": "c1e0070a-82cf-469a-aa57-7de4bc9bc101"
      },
      "source": [
        "from google.colab import files\n",
        "uploaded = files.upload()"
      ],
      "execution_count": null,
      "outputs": [
        {
          "output_type": "display_data",
          "data": {
            "text/plain": [
              "<IPython.core.display.HTML object>"
            ],
            "text/html": [
              "\n",
              "     <input type=\"file\" id=\"files-0545f644-14c6-4397-8663-10c049f23b4f\" name=\"files[]\" multiple disabled\n",
              "        style=\"border:none\" />\n",
              "     <output id=\"result-0545f644-14c6-4397-8663-10c049f23b4f\">\n",
              "      Upload widget is only available when the cell has been executed in the\n",
              "      current browser session. Please rerun this cell to enable.\n",
              "      </output>\n",
              "      <script>// Copyright 2017 Google LLC\n",
              "//\n",
              "// Licensed under the Apache License, Version 2.0 (the \"License\");\n",
              "// you may not use this file except in compliance with the License.\n",
              "// You may obtain a copy of the License at\n",
              "//\n",
              "//      http://www.apache.org/licenses/LICENSE-2.0\n",
              "//\n",
              "// Unless required by applicable law or agreed to in writing, software\n",
              "// distributed under the License is distributed on an \"AS IS\" BASIS,\n",
              "// WITHOUT WARRANTIES OR CONDITIONS OF ANY KIND, either express or implied.\n",
              "// See the License for the specific language governing permissions and\n",
              "// limitations under the License.\n",
              "\n",
              "/**\n",
              " * @fileoverview Helpers for google.colab Python module.\n",
              " */\n",
              "(function(scope) {\n",
              "function span(text, styleAttributes = {}) {\n",
              "  const element = document.createElement('span');\n",
              "  element.textContent = text;\n",
              "  for (const key of Object.keys(styleAttributes)) {\n",
              "    element.style[key] = styleAttributes[key];\n",
              "  }\n",
              "  return element;\n",
              "}\n",
              "\n",
              "// Max number of bytes which will be uploaded at a time.\n",
              "const MAX_PAYLOAD_SIZE = 100 * 1024;\n",
              "\n",
              "function _uploadFiles(inputId, outputId) {\n",
              "  const steps = uploadFilesStep(inputId, outputId);\n",
              "  const outputElement = document.getElementById(outputId);\n",
              "  // Cache steps on the outputElement to make it available for the next call\n",
              "  // to uploadFilesContinue from Python.\n",
              "  outputElement.steps = steps;\n",
              "\n",
              "  return _uploadFilesContinue(outputId);\n",
              "}\n",
              "\n",
              "// This is roughly an async generator (not supported in the browser yet),\n",
              "// where there are multiple asynchronous steps and the Python side is going\n",
              "// to poll for completion of each step.\n",
              "// This uses a Promise to block the python side on completion of each step,\n",
              "// then passes the result of the previous step as the input to the next step.\n",
              "function _uploadFilesContinue(outputId) {\n",
              "  const outputElement = document.getElementById(outputId);\n",
              "  const steps = outputElement.steps;\n",
              "\n",
              "  const next = steps.next(outputElement.lastPromiseValue);\n",
              "  return Promise.resolve(next.value.promise).then((value) => {\n",
              "    // Cache the last promise value to make it available to the next\n",
              "    // step of the generator.\n",
              "    outputElement.lastPromiseValue = value;\n",
              "    return next.value.response;\n",
              "  });\n",
              "}\n",
              "\n",
              "/**\n",
              " * Generator function which is called between each async step of the upload\n",
              " * process.\n",
              " * @param {string} inputId Element ID of the input file picker element.\n",
              " * @param {string} outputId Element ID of the output display.\n",
              " * @return {!Iterable<!Object>} Iterable of next steps.\n",
              " */\n",
              "function* uploadFilesStep(inputId, outputId) {\n",
              "  const inputElement = document.getElementById(inputId);\n",
              "  inputElement.disabled = false;\n",
              "\n",
              "  const outputElement = document.getElementById(outputId);\n",
              "  outputElement.innerHTML = '';\n",
              "\n",
              "  const pickedPromise = new Promise((resolve) => {\n",
              "    inputElement.addEventListener('change', (e) => {\n",
              "      resolve(e.target.files);\n",
              "    });\n",
              "  });\n",
              "\n",
              "  const cancel = document.createElement('button');\n",
              "  inputElement.parentElement.appendChild(cancel);\n",
              "  cancel.textContent = 'Cancel upload';\n",
              "  const cancelPromise = new Promise((resolve) => {\n",
              "    cancel.onclick = () => {\n",
              "      resolve(null);\n",
              "    };\n",
              "  });\n",
              "\n",
              "  // Wait for the user to pick the files.\n",
              "  const files = yield {\n",
              "    promise: Promise.race([pickedPromise, cancelPromise]),\n",
              "    response: {\n",
              "      action: 'starting',\n",
              "    }\n",
              "  };\n",
              "\n",
              "  cancel.remove();\n",
              "\n",
              "  // Disable the input element since further picks are not allowed.\n",
              "  inputElement.disabled = true;\n",
              "\n",
              "  if (!files) {\n",
              "    return {\n",
              "      response: {\n",
              "        action: 'complete',\n",
              "      }\n",
              "    };\n",
              "  }\n",
              "\n",
              "  for (const file of files) {\n",
              "    const li = document.createElement('li');\n",
              "    li.append(span(file.name, {fontWeight: 'bold'}));\n",
              "    li.append(span(\n",
              "        `(${file.type || 'n/a'}) - ${file.size} bytes, ` +\n",
              "        `last modified: ${\n",
              "            file.lastModifiedDate ? file.lastModifiedDate.toLocaleDateString() :\n",
              "                                    'n/a'} - `));\n",
              "    const percent = span('0% done');\n",
              "    li.appendChild(percent);\n",
              "\n",
              "    outputElement.appendChild(li);\n",
              "\n",
              "    const fileDataPromise = new Promise((resolve) => {\n",
              "      const reader = new FileReader();\n",
              "      reader.onload = (e) => {\n",
              "        resolve(e.target.result);\n",
              "      };\n",
              "      reader.readAsArrayBuffer(file);\n",
              "    });\n",
              "    // Wait for the data to be ready.\n",
              "    let fileData = yield {\n",
              "      promise: fileDataPromise,\n",
              "      response: {\n",
              "        action: 'continue',\n",
              "      }\n",
              "    };\n",
              "\n",
              "    // Use a chunked sending to avoid message size limits. See b/62115660.\n",
              "    let position = 0;\n",
              "    do {\n",
              "      const length = Math.min(fileData.byteLength - position, MAX_PAYLOAD_SIZE);\n",
              "      const chunk = new Uint8Array(fileData, position, length);\n",
              "      position += length;\n",
              "\n",
              "      const base64 = btoa(String.fromCharCode.apply(null, chunk));\n",
              "      yield {\n",
              "        response: {\n",
              "          action: 'append',\n",
              "          file: file.name,\n",
              "          data: base64,\n",
              "        },\n",
              "      };\n",
              "\n",
              "      let percentDone = fileData.byteLength === 0 ?\n",
              "          100 :\n",
              "          Math.round((position / fileData.byteLength) * 100);\n",
              "      percent.textContent = `${percentDone}% done`;\n",
              "\n",
              "    } while (position < fileData.byteLength);\n",
              "  }\n",
              "\n",
              "  // All done.\n",
              "  yield {\n",
              "    response: {\n",
              "      action: 'complete',\n",
              "    }\n",
              "  };\n",
              "}\n",
              "\n",
              "scope.google = scope.google || {};\n",
              "scope.google.colab = scope.google.colab || {};\n",
              "scope.google.colab._files = {\n",
              "  _uploadFiles,\n",
              "  _uploadFilesContinue,\n",
              "};\n",
              "})(self);\n",
              "</script> "
            ]
          },
          "metadata": {}
        },
        {
          "output_type": "stream",
          "name": "stdout",
          "text": [
            "Saving X4_4.csv to X4_4.csv\n"
          ]
        }
      ]
    },
    {
      "cell_type": "code",
      "metadata": {
        "id": "bK7Uzm_sDe7J"
      },
      "source": [
        "import io\n",
        "import pandas as pd\n",
        "df = pd.read_csv(io.BytesIO(uploaded['X4_4.csv']))# Dataset is now stored in a Pandas Dataframe"
      ],
      "execution_count": null,
      "outputs": []
    },
    {
      "cell_type": "code",
      "metadata": {
        "id": "2krrMko4Dg5u",
        "colab": {
          "base_uri": "https://localhost:8080/"
        },
        "outputId": "65b9ca91-95d1-444e-a581-d2d4e92c214e"
      },
      "source": [
        "df=df.to_numpy()\n",
        "print(df)"
      ],
      "execution_count": null,
      "outputs": [
        {
          "output_type": "stream",
          "name": "stdout",
          "text": [
            "[[0.53553229 1.06300183 1.6551918  1.09968929]\n",
            " [0.34367353 0.74225673 1.02323071 1.26927655]\n",
            " [1.026257   0.79815846 1.99724851 1.46383566]\n",
            " ...\n",
            " [0.96865376 1.85661336 7.76185468 3.91299906]\n",
            " [1.43355836 2.1075005  7.00175109 3.81140771]\n",
            " [0.87596712 2.10074539 6.88335661 3.93023553]]\n"
          ]
        }
      ]
    },
    {
      "cell_type": "code",
      "metadata": {
        "id": "fKr9MObQDhV7"
      },
      "source": [
        "# Initialize dataframe object, specify time axis and variable names\n",
        "var_names = [r'$X^1$', r'$X^2$', r'$X^3$', r'$X^4$']\n",
        "dataframe = pp.DataFrame(df, \n",
        "                         datatime = np.arange(len(df)), \n",
        "                         var_names=var_names)"
      ],
      "execution_count": null,
      "outputs": []
    },
    {
      "cell_type": "markdown",
      "source": [
        "Perform the test using the parameters: significance level of the CI tests, minimum and maximum period of lags. Record the lagged links for the further steps."
      ],
      "metadata": {
        "id": "Qwd4yhx-LiUa"
      }
    },
    {
      "cell_type": "code",
      "metadata": {
        "colab": {
          "base_uri": "https://localhost:8080/"
        },
        "id": "zcI9-WMtue3u",
        "outputId": "72f96b9d-808c-4211-c8aa-c5af02d2e149"
      },
      "source": [
        "cond_ind_test = CMIknn()\n",
        "pcmci = PCMCI(dataframe=dataframe, cond_ind_test=cond_ind_test)\n",
        "results = pcmci.run_pcmciplus(tau_min=0, tau_max=4, pc_alpha=0.05)\n",
        "pcmci.print_results(results, alpha_level=0.05)"
      ],
      "execution_count": null,
      "outputs": [
        {
          "output_type": "stream",
          "name": "stdout",
          "text": [
            "\n",
            "## Significant links at alpha = 0.05:\n",
            "\n",
            "    Variable $X^1$ has 2 link(s):\n",
            "        ($X^1$ -1): pval = 0.00000 | val =  0.077\n",
            "        ($X^3$  0): pval = 0.01200 | val =  0.010 | unoriented link\n",
            "\n",
            "    Variable $X^2$ has 3 link(s):\n",
            "        ($X^2$ -1): pval = 0.01400 | val =  0.024\n",
            "        ($X^1$ -1): pval = 0.00000 | val =  0.023\n",
            "        ($X^2$ -2): pval = 0.00600 | val =  0.019\n",
            "\n",
            "    Variable $X^3$ has 2 link(s):\n",
            "        ($X^2$ -2): pval = 0.00000 | val =  0.020\n",
            "        ($X^1$  0): pval = 0.01200 | val =  0.010 | unoriented link\n",
            "\n",
            "    Variable $X^4$ has 1 link(s):\n",
            "        ($X^3$  0): pval = 0.00000 | val =  0.041\n",
            "\n",
            "## Ambiguous triples:\n",
            "\n",
            "    ($X^2$ -2) --> $X^3$ o-o $X^1$\n",
            "    ($X^4$  0) o-o $X^3$ o-o $X^1$\n",
            "    ($X^1$ -1) --> $X^1$ o-o $X^3$\n",
            "    ($X^1$  0) o-o $X^3$ o-o $X^4$\n"
          ]
        }
      ]
    },
    {
      "cell_type": "code",
      "source": [],
      "metadata": {
        "id": "bDv3IfOFRJsA"
      },
      "execution_count": null,
      "outputs": []
    },
    {
      "cell_type": "code",
      "metadata": {
        "colab": {
          "base_uri": "https://localhost:8080/"
        },
        "outputId": "ff4a9959-4544-4c17-b731-0c8138cc1eca",
        "id": "NwBVZ91bRKH_"
      },
      "source": [
        "cond_ind_test = CMIknn()\n",
        "pcmci = PCMCI(dataframe=dataframe, cond_ind_test=cond_ind_test)\n",
        "results = pcmci.run_pcmciplus(tau_min=1, tau_max=4, pc_alpha=0.05)\n",
        "pcmci.print_results(results, alpha_level=0.05)"
      ],
      "execution_count": null,
      "outputs": [
        {
          "output_type": "stream",
          "name": "stdout",
          "text": [
            "\n",
            "## Significant links at alpha = 0.05:\n",
            "\n",
            "    Variable $X^1$ has 1 link(s):\n",
            "        ($X^1$ -1): pval = 0.00000 | val =  0.089\n",
            "\n",
            "    Variable $X^2$ has 3 link(s):\n",
            "        ($X^2$ -1): pval = 0.01500 | val =  0.024\n",
            "        ($X^1$ -1): pval = 0.00000 | val =  0.023\n",
            "        ($X^2$ -2): pval = 0.00300 | val =  0.019\n",
            "\n",
            "    Variable $X^3$ has 2 link(s):\n",
            "        ($X^2$ -2): pval = 0.00000 | val =  0.037\n",
            "        ($X^3$ -3): pval = 0.00000 | val =  0.023\n",
            "\n",
            "    Variable $X^4$ has 1 link(s):\n",
            "        ($X^2$ -2): pval = 0.00100 | val =  0.027\n"
          ]
        }
      ]
    }
  ]
}